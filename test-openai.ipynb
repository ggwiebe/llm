{
 "cells": [
  {
   "cell_type": "code",
   "execution_count": 1,
   "metadata": {},
   "outputs": [],
   "source": [
    "import os\n",
    "import openai"
   ]
  },
  {
   "cell_type": "code",
   "execution_count": 2,
   "metadata": {},
   "outputs": [],
   "source": [
    "from dotenv import load_dotenv, find_dotenv\n",
    "_ = load_dotenv(find_dotenv())\n",
    "\n",
    "openai.api_key  = os.getenv('OPENAI_API_KEY')"
   ]
  },
  {
   "cell_type": "code",
   "execution_count": 3,
   "metadata": {},
   "outputs": [],
   "source": [
    "# def get_completion(prompt, system=\"You are a helpful assistant\", temperature=0, model=\"gpt-3.5-turbo\"):\n",
    "#     messages = [{\"role\": \"user\", \"content\": prompt}, {\"role\": \"system\", \"content\": system}]\n",
    "#     response = openai.ChatCompletion.create(\n",
    "#         model=model,\n",
    "#         messages=messages,\n",
    "#         temperature=temperature, # this is the degree of randomness of the model's output\n",
    "#     )\n",
    "#     return response.choices[0].message[\"content\"]"
   ]
  },
  {
   "cell_type": "code",
   "execution_count": 4,
   "metadata": {},
   "outputs": [],
   "source": [
    "text= f\"\"\"Wombats eating ice cream in a bathtub.\n",
    "\"\"\"\n",
    "prompt= f\"\"\"Please write a poem about the text delimited by triple backticks below. \\\n",
    "```{text}```\"\"\"\n",
    "\n",
    "system=\"You are an award winning poet known for your funny children's poems.\""
   ]
  },
  {
   "cell_type": "code",
   "execution_count": 24,
   "metadata": {},
   "outputs": [],
   "source": [
    "from openai import OpenAI\n",
    "client = OpenAI()\n"
   ]
  },
  {
   "cell_type": "code",
   "execution_count": null,
   "metadata": {},
   "outputs": [],
   "source": [
    "response = client.chat.completions.create(\n",
    "  model=\"gpt-3.5-turbo\",\n",
    "  messages=[\n",
    "    {\"role\": \"system\", \"content\": \"You are an award winning poet known for your funny children's poems.\"},\n",
    "    {\"role\": \"user\", \"content\": \"Please write a poem about Wombats eating ice cream in a bathtub.\"} #,\n",
    "  ]\n",
    ")\n",
    "\n",
    "print(response.choices[0].message.content.strip())"
   ]
  },
  {
   "cell_type": "code",
   "execution_count": 23,
   "metadata": {},
   "outputs": [
    {
     "name": "stdout",
     "output_type": "stream",
     "text": [
      "The Los Angeles Dodgers won the World Series in 2020.\n"
     ]
    }
   ],
   "source": [
    "response = client.chat.completions.create(\n",
    "  model=\"gpt-3.5-turbo\",\n",
    "  messages=[\n",
    "    {\"role\": \"system\", \"content\": \"You are a helpful assistant.\"},\n",
    "    {\"role\": \"user\", \"content\": \"Who won the world series in 2020?\"} #,\n",
    "    # {\"role\": \"assistant\", \"content\": \"The Los Angeles Dodgers won the World Series in 2020.\"},\n",
    "    # {\"role\": \"user\", \"content\": \"Where was it played?\"}\n",
    "  ]\n",
    ")\n",
    "\n",
    "print(response.choices[0].message.content.strip())"
   ]
  },
  {
   "cell_type": "code",
   "execution_count": 25,
   "metadata": {},
   "outputs": [
    {
     "name": "stdout",
     "output_type": "stream",
     "text": [
      "Wombats eating ice cream in a bathtub,\n",
      "Oh, what a sight, it's nothing but laughs!\n",
      "With their pudgy bodies and furry charm,\n",
      "They indulge in sweetness, it's simply disarm.\n",
      "\n",
      "Scoops of flavors, oh, what a treat,\n",
      "Vanilla and chocolate, their favorite feat.\n",
      "Their little paws all sticky and sweet,\n",
      "As they gobble up each frozen feat.\n",
      "\n",
      "In the round tub, they happily sit,\n",
      "Licking their cones, bit by bit.\n",
      "Wombats wobbling with happiness supreme,\n",
      "Their creamy delight, a delightful dream.\n",
      "\n",
      "Their whiskers twitch in sugary delight,\n",
      "As they slurp and munch, from morning till night.\n",
      "With chocolate sprinkles on their snout,\n",
      "They giggle and wiggle, without a doubt.\n",
      "\n",
      "Bathing in ice cream, a funny sight,\n",
      "Wombats enjoying a sugary respite.\n",
      "Their bellies grow round, rounder than ever,\n",
      "As they eat from their tub, forever and ever.\n",
      "\n",
      "Oh, wombats in a bathtub, eating with glee,\n",
      "What a joyful, silly sight to see!\n",
      "With smiles on their faces, sticky and sweet,\n",
      "These ice cream-loving wombats can't be beat!\n"
     ]
    }
   ],
   "source": [
    "subject= f\"\"\"Wombats eating ice cream in a bathtub.\n",
    "\"\"\"\n",
    "prompt= f\"\"\"Please write a poem about the text delimited by triple backticks below. \\\n",
    "```{subject}```\"\"\"\n",
    "\n",
    "\n",
    "# Define the messages in the conversation\n",
    "messages = [\n",
    "    {\"role\": \"system\", \"content\": \"You are an award winning poet known for your funny children's poems.\"},\n",
    "    {\"role\": \"user\", \"content\": f\"{prompt}\"}\n",
    "]\n",
    "\n",
    "# Make a request to the Chat API\n",
    "response = client.chat.completions.create(\n",
    "    model=\"gpt-3.5-turbo\",\n",
    "    messages=messages\n",
    ")\n",
    "\n",
    "# Get the assistant's response\n",
    "assistant_response = response.choices[0].message.content.strip()\n",
    "\n",
    "# Print the assistant's response\n",
    "print(assistant_response)"
   ]
  }
 ],
 "metadata": {
  "kernelspec": {
   "display_name": "llm",
   "language": "python",
   "name": "python3"
  },
  "language_info": {
   "codemirror_mode": {
    "name": "ipython",
    "version": 3
   },
   "file_extension": ".py",
   "mimetype": "text/x-python",
   "name": "python",
   "nbconvert_exporter": "python",
   "pygments_lexer": "ipython3",
   "version": "3.12.0"
  }
 },
 "nbformat": 4,
 "nbformat_minor": 2
}
